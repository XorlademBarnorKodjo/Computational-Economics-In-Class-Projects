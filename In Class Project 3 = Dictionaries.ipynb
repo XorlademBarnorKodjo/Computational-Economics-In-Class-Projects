{
 "cells": [
  {
   "cell_type": "markdown",
   "id": "2fff6a11",
   "metadata": {},
   "source": [
    "# Dictionaries and dataframes\n",
    "\n",
    "Dictionaires are structures that assume an index value for the data stored\n",
    "\n",
    "Dictionaries take the general form\n",
    " > my dictionary  = {key:obj}\n",
    "\n",
    "To call the object that linked to the key.\n",
    " mydictionary[key] will output the object, obj\n",
    " \n"
   ]
  },
  {
   "cell_type": "code",
   "execution_count": 1,
   "id": "93173c3b",
   "metadata": {},
   "outputs": [
    {
     "data": {
      "text/plain": [
       "{}"
      ]
     },
     "execution_count": 1,
     "metadata": {},
     "output_type": "execute_result"
    }
   ],
   "source": [
    "dct = {}\n",
    "dct"
   ]
  },
  {
   "cell_type": "code",
   "execution_count": 2,
   "id": "87f66587",
   "metadata": {},
   "outputs": [
    {
     "data": {
      "text/plain": [
       "{'run': {}, 'walk': {}}"
      ]
     },
     "execution_count": 2,
     "metadata": {},
     "output_type": "execute_result"
    }
   ],
   "source": [
    "dct = {\"run\":{},\n",
    "      \"walk\":{}}\n",
    "\n",
    "dct"
   ]
  },
  {
   "cell_type": "markdown",
   "id": "2e72b5e6",
   "metadata": {},
   "source": [
    "Dictionaries are better to use if you are not going to view the data but just store them and manipulate them instead of the dataframe"
   ]
  },
  {
   "cell_type": "code",
   "execution_count": 3,
   "id": "4963427f",
   "metadata": {},
   "outputs": [
    {
     "data": {
      "text/plain": [
       "{'run': 'to move swiftly by foot',\n",
       " 'walk': 'to move slowly or leisurely by foot'}"
      ]
     },
     "execution_count": 3,
     "metadata": {},
     "output_type": "execute_result"
    }
   ],
   "source": [
    "dct = {\"run\":\"to move swiftly by foot\",\n",
    "      \"walk\":\"to move slowly or leisurely by foot\"}\n",
    "\n",
    "dct"
   ]
  },
  {
   "cell_type": "markdown",
   "id": "1e8f499f",
   "metadata": {},
   "source": [
    "You can input dictionaries of dictionaries with multiple definitions"
   ]
  },
  {
   "cell_type": "code",
   "execution_count": 4,
   "id": "f42ab0e4",
   "metadata": {},
   "outputs": [
    {
     "data": {
      "text/plain": [
       "{'run': {'verb': 'to move swiftly by foot',\n",
       "  'noun': 'a period of time while one was running'},\n",
       " 'walk': {'verb': 'to move slowly by foot',\n",
       "  'noun': 'a period of time while one was walking'}}"
      ]
     },
     "execution_count": 4,
     "metadata": {},
     "output_type": "execute_result"
    }
   ],
   "source": [
    "dct = {\"run\":{\n",
    "    \"verb\":\"to move swiftly by foot\",\n",
    "    \"noun\":\"a period of time while one was running\"},\n",
    "       \"walk\":{\n",
    "    \"verb\":\"to move slowly by foot\",\n",
    "    \"noun\":\"a period of time while one was walking\"}\n",
    "      }\n",
    "\n",
    "dct   "
   ]
  },
  {
   "cell_type": "markdown",
   "id": "c840c445",
   "metadata": {},
   "source": [
    "ctrl + / gives == #"
   ]
  },
  {
   "cell_type": "code",
   "execution_count": 5,
   "id": "e82165fd",
   "metadata": {},
   "outputs": [
    {
     "data": {
      "text/html": [
       "<div>\n",
       "<style scoped>\n",
       "    .dataframe tbody tr th:only-of-type {\n",
       "        vertical-align: middle;\n",
       "    }\n",
       "\n",
       "    .dataframe tbody tr th {\n",
       "        vertical-align: top;\n",
       "    }\n",
       "\n",
       "    .dataframe thead th {\n",
       "        text-align: right;\n",
       "    }\n",
       "</style>\n",
       "<table border=\"1\" class=\"dataframe\">\n",
       "  <thead>\n",
       "    <tr style=\"text-align: right;\">\n",
       "      <th></th>\n",
       "      <th>run</th>\n",
       "      <th>walk</th>\n",
       "    </tr>\n",
       "  </thead>\n",
       "  <tbody>\n",
       "    <tr>\n",
       "      <th>verb</th>\n",
       "      <td>to move swiftly by foot</td>\n",
       "      <td>to move slowly by foot</td>\n",
       "    </tr>\n",
       "    <tr>\n",
       "      <th>noun</th>\n",
       "      <td>a period of time while one was running</td>\n",
       "      <td>a period of time while one was walking</td>\n",
       "    </tr>\n",
       "  </tbody>\n",
       "</table>\n",
       "</div>"
      ],
      "text/plain": [
       "                                         run  \\\n",
       "verb                 to move swiftly by foot   \n",
       "noun  a period of time while one was running   \n",
       "\n",
       "                                        walk  \n",
       "verb                  to move slowly by foot  \n",
       "noun  a period of time while one was walking  "
      ]
     },
     "execution_count": 5,
     "metadata": {},
     "output_type": "execute_result"
    }
   ],
   "source": [
    "import pandas as pd\n",
    "pd.DataFrame(dct)"
   ]
  },
  {
   "cell_type": "markdown",
   "id": "d346f779",
   "metadata": {},
   "source": [
    "You can also store the dataframe with a name and call"
   ]
  },
  {
   "cell_type": "code",
   "execution_count": 6,
   "id": "e049b217",
   "metadata": {},
   "outputs": [
    {
     "data": {
      "text/html": [
       "<div>\n",
       "<style scoped>\n",
       "    .dataframe tbody tr th:only-of-type {\n",
       "        vertical-align: middle;\n",
       "    }\n",
       "\n",
       "    .dataframe tbody tr th {\n",
       "        vertical-align: top;\n",
       "    }\n",
       "\n",
       "    .dataframe thead th {\n",
       "        text-align: right;\n",
       "    }\n",
       "</style>\n",
       "<table border=\"1\" class=\"dataframe\">\n",
       "  <thead>\n",
       "    <tr style=\"text-align: right;\">\n",
       "      <th></th>\n",
       "      <th>run</th>\n",
       "      <th>walk</th>\n",
       "    </tr>\n",
       "  </thead>\n",
       "  <tbody>\n",
       "    <tr>\n",
       "      <th>verb</th>\n",
       "      <td>to move swiftly by foot</td>\n",
       "      <td>to move slowly by foot</td>\n",
       "    </tr>\n",
       "    <tr>\n",
       "      <th>noun</th>\n",
       "      <td>a period of time while one was running</td>\n",
       "      <td>a period of time while one was walking</td>\n",
       "    </tr>\n",
       "  </tbody>\n",
       "</table>\n",
       "</div>"
      ],
      "text/plain": [
       "                                         run  \\\n",
       "verb                 to move swiftly by foot   \n",
       "noun  a period of time while one was running   \n",
       "\n",
       "                                        walk  \n",
       "verb                  to move slowly by foot  \n",
       "noun  a period of time while one was walking  "
      ]
     },
     "execution_count": 6,
     "metadata": {},
     "output_type": "execute_result"
    }
   ],
   "source": [
    "import pandas as pd\n",
    "df = pd.DataFrame(dct)\n",
    "df"
   ]
  },
  {
   "cell_type": "code",
   "execution_count": 7,
   "id": "50740ca5",
   "metadata": {},
   "outputs": [
    {
     "data": {
      "text/plain": [
       "verb                   to move swiftly by foot\n",
       "noun    a period of time while one was running\n",
       "Name: run, dtype: object"
      ]
     },
     "execution_count": 7,
     "metadata": {},
     "output_type": "execute_result"
    }
   ],
   "source": [
    "# call a column in the df\n",
    "df[\"run\"]"
   ]
  },
  {
   "cell_type": "code",
   "execution_count": 8,
   "id": "a4d0367a",
   "metadata": {},
   "outputs": [
    {
     "data": {
      "text/plain": [
       "run     to move swiftly by foot\n",
       "walk     to move slowly by foot\n",
       "Name: verb, dtype: object"
      ]
     },
     "execution_count": 8,
     "metadata": {},
     "output_type": "execute_result"
    }
   ],
   "source": [
    "# call a row in the df\n",
    "df.loc[\"verb\"]"
   ]
  },
  {
   "cell_type": "code",
   "execution_count": 9,
   "id": "076e62cd",
   "metadata": {},
   "outputs": [
    {
     "data": {
      "text/plain": [
       "'to move swiftly by foot'"
      ]
     },
     "execution_count": 9,
     "metadata": {},
     "output_type": "execute_result"
    }
   ],
   "source": [
    "# call a particular cell\n",
    "df.loc[\"verb\", \"run\"]"
   ]
  },
  {
   "cell_type": "code",
   "execution_count": 10,
   "id": "7111bcd7",
   "metadata": {},
   "outputs": [
    {
     "data": {
      "text/plain": [
       "{'Caden': {'Age': 19, 'Interesting fact': 'Played hockey'},\n",
       " 'Jacob P': {'Age': 21, 'Interesting fact': 'Dr caton got name wrong'},\n",
       " 'Genesis': {'Age': 21, 'Interesting fact': 'Wrestled in highschool'},\n",
       " 'Sam': {'Age': 20, 'Interesting fact': 'Tore ACL'},\n",
       " 'Proma': {'Age': 24, 'Interesting fact': 'Learned Classics'},\n",
       " 'Zach': {'Age': 20, 'Interesting fact': 'Track and Field Team'},\n",
       " 'Jacob K': {'Age': 20, 'Interesting fact': 'Played Classics'},\n",
       " 'Brabdon': {'Age': 20, 'Interesting fact': 'Played baseball'},\n",
       " 'Gabe': {'Age': 20, 'Interesting fact': 'Double major'},\n",
       " 'Drew': {'Age': 49, 'Interesting fact': 'A veteran'},\n",
       " 'Isaac': {'Age': 21, 'Interesting fact': 'Travelling to Europe'},\n",
       " 'Kodjo': {'Age': 30, 'Interesting fact': 'Wife Soldier'}}"
      ]
     },
     "execution_count": 10,
     "metadata": {},
     "output_type": "execute_result"
    }
   ],
   "source": [
    "dct = {\"Caden\":{\"Age\":19,\n",
    "                \"Interesting fact\":\"Played hockey\"},\n",
    "      \"Jacob P\":{\"Age\":21,\n",
    "                \"Interesting fact\":\"Dr caton got name wrong\"},\n",
    "      \"Genesis\":{\"Age\":21,\n",
    "                \"Interesting fact\":\"Wrestled in highschool\"},\n",
    "      \"Sam\":{\"Age\":20,\n",
    "                \"Interesting fact\":\"Tore ACL\"},\n",
    "      \"Proma\":{\"Age\":24,\n",
    "                \"Interesting fact\":\"Learned Classics\"},\n",
    "      \"Zach\":{\"Age\":20,\n",
    "                \"Interesting fact\":\"Track and Field Team\"},\n",
    "      \"Jacob K\":{\"Age\":20,\n",
    "                \"Interesting fact\":\"Played Classics\"},\n",
    "       \"Brabdon\":{\"Age\":20,\n",
    "                \"Interesting fact\":\"Played baseball\"},\n",
    "      \"Gabe\":{\"Age\":20,\n",
    "                \"Interesting fact\":\"Double major\"},\n",
    "      \"Drew\":{\"Age\":49,\n",
    "                \"Interesting fact\":\"A veteran\"},\n",
    "      \"Isaac\":{\"Age\":21,\n",
    "                \"Interesting fact\":\"Travelling to Europe\"},\n",
    "      \"Kodjo\":{\"Age\":30,\n",
    "                \"Interesting fact\":\"Wife Soldier\"}}\n",
    "\n",
    "dct"
   ]
  },
  {
   "cell_type": "code",
   "execution_count": 11,
   "id": "152bdc58",
   "metadata": {},
   "outputs": [
    {
     "data": {
      "text/html": [
       "<div>\n",
       "<style scoped>\n",
       "    .dataframe tbody tr th:only-of-type {\n",
       "        vertical-align: middle;\n",
       "    }\n",
       "\n",
       "    .dataframe tbody tr th {\n",
       "        vertical-align: top;\n",
       "    }\n",
       "\n",
       "    .dataframe thead th {\n",
       "        text-align: right;\n",
       "    }\n",
       "</style>\n",
       "<table border=\"1\" class=\"dataframe\">\n",
       "  <thead>\n",
       "    <tr style=\"text-align: right;\">\n",
       "      <th></th>\n",
       "      <th>Age</th>\n",
       "      <th>Interesting fact</th>\n",
       "    </tr>\n",
       "  </thead>\n",
       "  <tbody>\n",
       "    <tr>\n",
       "      <th>Caden</th>\n",
       "      <td>19</td>\n",
       "      <td>Played hockey</td>\n",
       "    </tr>\n",
       "    <tr>\n",
       "      <th>Jacob P</th>\n",
       "      <td>21</td>\n",
       "      <td>Dr caton got name wrong</td>\n",
       "    </tr>\n",
       "    <tr>\n",
       "      <th>Genesis</th>\n",
       "      <td>21</td>\n",
       "      <td>Wrestled in highschool</td>\n",
       "    </tr>\n",
       "    <tr>\n",
       "      <th>Sam</th>\n",
       "      <td>20</td>\n",
       "      <td>Tore ACL</td>\n",
       "    </tr>\n",
       "    <tr>\n",
       "      <th>Proma</th>\n",
       "      <td>24</td>\n",
       "      <td>Learned Classics</td>\n",
       "    </tr>\n",
       "    <tr>\n",
       "      <th>Zach</th>\n",
       "      <td>20</td>\n",
       "      <td>Track and Field Team</td>\n",
       "    </tr>\n",
       "    <tr>\n",
       "      <th>Jacob K</th>\n",
       "      <td>20</td>\n",
       "      <td>Played Classics</td>\n",
       "    </tr>\n",
       "    <tr>\n",
       "      <th>Brabdon</th>\n",
       "      <td>20</td>\n",
       "      <td>Played baseball</td>\n",
       "    </tr>\n",
       "    <tr>\n",
       "      <th>Gabe</th>\n",
       "      <td>20</td>\n",
       "      <td>Double major</td>\n",
       "    </tr>\n",
       "    <tr>\n",
       "      <th>Drew</th>\n",
       "      <td>49</td>\n",
       "      <td>A veteran</td>\n",
       "    </tr>\n",
       "    <tr>\n",
       "      <th>Isaac</th>\n",
       "      <td>21</td>\n",
       "      <td>Travelling to Europe</td>\n",
       "    </tr>\n",
       "    <tr>\n",
       "      <th>Kodjo</th>\n",
       "      <td>30</td>\n",
       "      <td>Wife Soldier</td>\n",
       "    </tr>\n",
       "  </tbody>\n",
       "</table>\n",
       "</div>"
      ],
      "text/plain": [
       "        Age         Interesting fact\n",
       "Caden    19            Played hockey\n",
       "Jacob P  21  Dr caton got name wrong\n",
       "Genesis  21   Wrestled in highschool\n",
       "Sam      20                 Tore ACL\n",
       "Proma    24         Learned Classics\n",
       "Zach     20     Track and Field Team\n",
       "Jacob K  20          Played Classics\n",
       "Brabdon  20          Played baseball\n",
       "Gabe     20             Double major\n",
       "Drew     49                A veteran\n",
       "Isaac    21     Travelling to Europe\n",
       "Kodjo    30             Wife Soldier"
      ]
     },
     "execution_count": 11,
     "metadata": {},
     "output_type": "execute_result"
    }
   ],
   "source": [
    "#transpose a dataframe by calling df.T\n",
    "pd.DataFrame(dct).T"
   ]
  },
  {
   "cell_type": "code",
   "execution_count": 12,
   "id": "79cf7ad3",
   "metadata": {},
   "outputs": [
    {
     "data": {
      "text/plain": [
       "{'Caden': {'Age': 19, 'Interesting fact': 'Played hockey'},\n",
       " 'Jacob P': {'Age': 21, 'Interesting fact': 'Dr caton got name wrong'},\n",
       " 'Genesis': {'Age': 21, 'Interesting fact': 'Wrestled in highschool'},\n",
       " 'Sam': {'Age': 20, 'Interesting fact': 'Tore ACL'},\n",
       " 'Proma': {'Age': 24, 'Interesting fact': 'Learned Classics'},\n",
       " 'Zach': {'Age': 20, 'Interesting fact': 'Track and Field Team'},\n",
       " 'Jacob K': {'Age': 20, 'Interesting fact': 'Played Classics'},\n",
       " 'Brabdon': {'Age': 20, 'Interesting fact': 'Played baseball'},\n",
       " 'Gabe': {'Age': 20, 'Interesting fact': 'Double major'},\n",
       " 'Drew': {'Age': 49, 'Interesting fact': 'A veteran'},\n",
       " 'Isaac': {'Age': 21, 'Interesting fact': 'Travelling to Europe'},\n",
       " 'Kodjo': {'Age': 30, 'Interesting fact': 'Wife Soldier'},\n",
       " 'Dr. Caton': {'Age': None, 'Interesting fact': 'I used to ride dirtbikes'}}"
      ]
     },
     "execution_count": 12,
     "metadata": {},
     "output_type": "execute_result"
    }
   ],
   "source": [
    "dct[\"Dr. Caton\"] = {}\n",
    "dct[\"Dr. Caton\"][\"Age\"] = None\n",
    "dct[\"Dr. Caton\"][\"Interesting fact\"] = \"I used to ride dirtbikes\"\n",
    "\n",
    "dct"
   ]
  },
  {
   "cell_type": "code",
   "execution_count": 13,
   "id": "3d69b7f5",
   "metadata": {},
   "outputs": [],
   "source": [
    "dct[\"Joe Biden\"] = {\"Age\":78,\n",
    "                   \"Interesting fact\": \"Plays mario Kart\"}"
   ]
  },
  {
   "cell_type": "code",
   "execution_count": 14,
   "id": "5cb97af7",
   "metadata": {},
   "outputs": [
    {
     "data": {
      "text/html": [
       "<div>\n",
       "<style scoped>\n",
       "    .dataframe tbody tr th:only-of-type {\n",
       "        vertical-align: middle;\n",
       "    }\n",
       "\n",
       "    .dataframe tbody tr th {\n",
       "        vertical-align: top;\n",
       "    }\n",
       "\n",
       "    .dataframe thead th {\n",
       "        text-align: right;\n",
       "    }\n",
       "</style>\n",
       "<table border=\"1\" class=\"dataframe\">\n",
       "  <thead>\n",
       "    <tr style=\"text-align: right;\">\n",
       "      <th></th>\n",
       "      <th>Age</th>\n",
       "      <th>Interesting fact</th>\n",
       "    </tr>\n",
       "  </thead>\n",
       "  <tbody>\n",
       "    <tr>\n",
       "      <th>Caden</th>\n",
       "      <td>19</td>\n",
       "      <td>Played hockey</td>\n",
       "    </tr>\n",
       "    <tr>\n",
       "      <th>Jacob P</th>\n",
       "      <td>21</td>\n",
       "      <td>Dr caton got name wrong</td>\n",
       "    </tr>\n",
       "    <tr>\n",
       "      <th>Genesis</th>\n",
       "      <td>21</td>\n",
       "      <td>Wrestled in highschool</td>\n",
       "    </tr>\n",
       "    <tr>\n",
       "      <th>Sam</th>\n",
       "      <td>20</td>\n",
       "      <td>Tore ACL</td>\n",
       "    </tr>\n",
       "    <tr>\n",
       "      <th>Proma</th>\n",
       "      <td>24</td>\n",
       "      <td>Learned Classics</td>\n",
       "    </tr>\n",
       "    <tr>\n",
       "      <th>Zach</th>\n",
       "      <td>20</td>\n",
       "      <td>Track and Field Team</td>\n",
       "    </tr>\n",
       "    <tr>\n",
       "      <th>Jacob K</th>\n",
       "      <td>20</td>\n",
       "      <td>Played Classics</td>\n",
       "    </tr>\n",
       "    <tr>\n",
       "      <th>Brabdon</th>\n",
       "      <td>20</td>\n",
       "      <td>Played baseball</td>\n",
       "    </tr>\n",
       "    <tr>\n",
       "      <th>Gabe</th>\n",
       "      <td>20</td>\n",
       "      <td>Double major</td>\n",
       "    </tr>\n",
       "    <tr>\n",
       "      <th>Drew</th>\n",
       "      <td>49</td>\n",
       "      <td>A veteran</td>\n",
       "    </tr>\n",
       "    <tr>\n",
       "      <th>Isaac</th>\n",
       "      <td>21</td>\n",
       "      <td>Travelling to Europe</td>\n",
       "    </tr>\n",
       "    <tr>\n",
       "      <th>Kodjo</th>\n",
       "      <td>30</td>\n",
       "      <td>Wife Soldier</td>\n",
       "    </tr>\n",
       "    <tr>\n",
       "      <th>Dr. Caton</th>\n",
       "      <td>None</td>\n",
       "      <td>I used to ride dirtbikes</td>\n",
       "    </tr>\n",
       "    <tr>\n",
       "      <th>Joe Biden</th>\n",
       "      <td>78</td>\n",
       "      <td>Plays mario Kart</td>\n",
       "    </tr>\n",
       "  </tbody>\n",
       "</table>\n",
       "</div>"
      ],
      "text/plain": [
       "            Age          Interesting fact\n",
       "Caden        19             Played hockey\n",
       "Jacob P      21   Dr caton got name wrong\n",
       "Genesis      21    Wrestled in highschool\n",
       "Sam          20                  Tore ACL\n",
       "Proma        24          Learned Classics\n",
       "Zach         20      Track and Field Team\n",
       "Jacob K      20           Played Classics\n",
       "Brabdon      20           Played baseball\n",
       "Gabe         20              Double major\n",
       "Drew         49                 A veteran\n",
       "Isaac        21      Travelling to Europe\n",
       "Kodjo        30              Wife Soldier\n",
       "Dr. Caton  None  I used to ride dirtbikes\n",
       "Joe Biden    78          Plays mario Kart"
      ]
     },
     "execution_count": 14,
     "metadata": {},
     "output_type": "execute_result"
    }
   ],
   "source": [
    "pd.DataFrame(dct).T"
   ]
  },
  {
   "cell_type": "code",
   "execution_count": 15,
   "id": "946cfdef",
   "metadata": {},
   "outputs": [
    {
     "data": {
      "text/plain": [
       "{'William Nganje': {'Website': 'https://www.ndsu.edu/agecon/faculty/william_nganje/#c622350',\n",
       "  'Areas of Specialization': 'Risk management; financial analysis; economics of obesity, food safety and food terrorism; experimental economics; and consumer choice theory',\n",
       "  'Bio': 'NA'},\n",
       " 'David Bullock': {'Website': 'https://www.ndsu.edu/agecon/faculty/bullock/#c622728',\n",
       "  'Areas of Specialization': 'futures and options markets, over-the-counter derivatives, trading, risk management, agrifinance, Monte Carlo simulation, and Big Data',\n",
       "  'Bio': 'Dr. David W. Bullock is a Research Associate Professor affiliated with the Center for Trading and Risk at NDSU.  His research interests include futures and options markets, over-the-counter derivatives, trading, risk management, agrifinance, Monte Carlo simulation, and Big Data applications in agriculture.  His academic research in option portfolio theory has been published in both the Journal of Economics and Business and the International Review of Economics and Finance.  Additionally, he was the primary contributor behind the AgriBank Insights publication series which won a National AgriMarketing Association (NAMA) award for the best company publication in 2016. Before coming to NDSU in January 2018, Dr. Bullock held numerous positions for over 25 years in the government and private sectors including the Senior Economist at AgriBank FCB – the regional Farm Credit System funding bank for the Upper Midwest region, Director of Research and Senior Foods Economist at Fortune 500 commodity risk management firm INTL FCStone Inc., the Senior Dairy Analyst at Informa Economics, a Risk Management Specialist with the Minnesota Department of Agriculture, and the Senior Economist at the Minneapolis Grain Exchange. David began his academic career as an Assistant Professor and Extension Marketing Economist at Montana State University after graduating from Iowa State University with a Ph.D. in agricultural economics with fields in agricultural price analysis and econometrics in 1989.  Prior to entering ISU, he received bachelor’s (1982) and master’s (1984) degrees in agricultural economics from Northwest Missouri State University. Dr. Bullock is originally from the small northwestern Missouri farming community of Lathrop which is located 40 miles north of the Kansas City metropolitan area.  While in high school, he served as a regional state Vice-President in the Future Farmers of America (FFA) during his senior year.'},\n",
       " 'James Caton': {'Website': 'https://www.ndsu.edu/centers/pcpe/about/directory/james_caton/',\n",
       "  'Areas of Specialization': 'Entrepreneurship, Institutions, Macroeconomics, Computation',\n",
       "  'Bio': \"James Caton is a faculty fellow at the NDSU Center for the Study of Public Choice and Private Enterprise (PCPE) and an assistant professor in the NDSU Department of Agribusiness and Applied Economics. He teaches undergraduate courses in the areas of macroeconomics, international trade, and computation. He specializes in research related to entrepreneurship, agent-based computational economics, market process theory, and monetary economics. His research has been published in the Southern Economic Journal, Erasmus Journal for Philosophy and Economics, Journal of Entrepreneurship and Public Policy and other academic publications. He co-edited Macroeconomics, a two volume set of essays and primary sources that represent the core of macroeconomic thought. He is also a regular contributor to the American Institute for Economic Research's Sound Money Project, which conducts research and promotes awareness about monetary stability and financial privacy. He resides in Fargo with his wife, Ingrid, and their children.\"},\n",
       " 'David Englund': {'Website': 'https://www.ndsu.edu/agecon/faculty/englund/#c622903',\n",
       "  'Areas of Specialization': 'Teaches Economic Principles, Led NDSU NAMA to National Champions',\n",
       "  'Bio': 'David Englund is a lecturer in the department.  He came to the department with 16 years of teaching experience, having taught Principles of Microeconomics, Principles of Macroeconomics, Money and Banking, Consumer Behavior, Selected Topics in Business, and several other classes.  He also had 10 years’ experience advising student NAMA chapters, having been awarded the Outstanding Advisor of the Year for a Developing Chapter in 2002, and the Outstanding Advisor of the Year award in 2009.\\nDavid primarily teaches Survey of Economics, Principles of Microeconomics, Skills for Academic Success, Agricultural Marketing, and NAMA (co-teaches).  He joined the NAMA team in the 2014-2015 school year as a co-advisor and helped coach the student team to a 3rd place finish in the national student marketing plan competition at the national conference.\\nSome of David’s outside interests are jogging, photography, and writing fiction novels.  His latest release, Camouflaged Encounters has received positive reviews.'},\n",
       " 'Erik Hanson': {'Website': 'https://www.ndsu.edu/agecon/faculty/hanson/#c622905',\n",
       "  'Areas of Specialization': 'Ag Management, Ag Finance',\n",
       "  'Bio': 'Erik Hanson is an Assistant Professor in the Department of Agricultural and Applied Economics. He teaches courses on agribusiness management and agricultural finance. Erik completed his Ph.D. at the University of Minnesota in 2016. Prior to that, Erik completed a master’s degree at the University of Illinois (2013) and a bachelor’s degree at Minnesota State University Moorhead (2011).'},\n",
       " 'Ronald Haugen': {'Website': 'https://www.ndsu.edu/agecon/about_us/faculty/ron_haugen/#c654700',\n",
       "  'Areas of Specialization': 'Extension Farm Management Specialist',\n",
       "  'Bio': 'Ron Haugen is an Extension Farm Management Specialist. He has been in the department since 1991. Farm management topics include: crop budgets, crop insurance, farm programs, custom farm rates, land rents, machinery economics, commodity price projections and agricultural income taxes. He computes the North Dakota Land Valuation Model.'},\n",
       " 'Robert Hearne': {'Website': 'https://www.ndsu.edu/agecon/faculty/hearne/#c622909',\n",
       "  'Areas of Specialization': 'water resources management institutions, water markets, protected area management, and the economic valuation of environmental goods and services',\n",
       "  'Bio': 'Dr. Bob Hearne has been in the Department of Agribusiness and Applied Economics since 2002.   His research focuses on water resources management institutions, water markets, protected area management, and the economic valuation of environmental goods and services.  He has professional experience in Europe, Asia, Latin America, and Asia. '},\n",
       " 'Jeremy Jackson': {'Website': 'https://www.ndsu.edu/centers/pcpe/about/directory/jeremy_jackson/',\n",
       "  'Areas of Specialization': 'public choice and the political economy; the social consequences of economic freedom; happiness and well-being; and philanthropy and nonprofits',\n",
       "  'Bio': 'Jeremy Jackson is director of the Center for the Study of Public Choice and Private Enterprise, scholar at the Challey Institute for Global Innovation and Growth, and professor of economics in the Department of Agribusiness and Applied Economics at North Dakota State University.. He teaches undergraduate and graduate courses in the areas of microeconomics, public economics, and game theory and strategy. His research covers diverse topics, including public choice and the political economy; the social consequences of economic freedom; happiness and well-being; and philanthropy and nonprofits. His research has been published in Applied Economics, The Independent Review, Public Choice, Contemporary Economic Policy, Journal of Happiness Studies, and other refereed and non-refereed sources'},\n",
       " 'Prithviraj Lakkakula': {'Website': 'https://www.ndsu.edu/agecon/faculty/prithviraj_lakkakula/#c623441',\n",
       "  'Areas of Specialization': 'Agricultural Price Analysis',\n",
       "  'Bio': 'Prithviraj has a Ph.D. Food and Resource Economics, University of Florida, 2014, an M.S. Agricultural Economics, University of Arkansas, 2010 and a B.Sc. Agriculture, Acharya N.G Ranga Agricultural University, Hyderabad, 2007. He teaches ECON 341: Intermediate Microeconomics and AGEC 344: Agricultural Price Analysis'},\n",
       " 'Siew Lim': {'Website': 'https://www.ndsu.edu/agecon/faculty/lim/#c624837',\n",
       "  'Areas of Specialization': 'applied microeconomics, production economics, industrial organization, transportation and regional development',\n",
       "  'Bio': 'Siew Hoon Lim is an associate professor of economics. Her current research is in applied microeconomics, production economics, industrial organization, transportation and regional development. Her recent research works include transportation and  regional development'},\n",
       " 'Raymond March': {'Website': 'https://www.ndsu.edu/centers/pcpe/about/directory/raymond_march/',\n",
       "  'Areas of Specialization': 'public and private provision and governance of health care',\n",
       "  'Bio': 'Raymond March is a scholar at the Challey Institute for Global Innovation and Growth with the Center for the Study of Public Choice and Private Enterprise and an assistant professor of economics in the Department of Agribusiness and Applied Economics at North Dakota State University. He teaches courses in microeconomics, the history of economic thought, and health economics. His research examines the public and private provision and governance of health care in the United States, particularly in pharmaceutical markets. His research has appeared in Southern Economic Journal, Public Choice, Research Policy, Journal of Institutional Economics, and other academic publications. His popular writings are published in the Washington Examiner, The Hill, Real Clear Health, Health Care News, Sun Sentinel, Foundation for Economic Education, and elsewhere. Raymond is also a research fellow at the Independent Institute and the director of FDAReview.org, an educational research and communications project on the U.S. Food and Drug Administration (FDA). He regularly blogs on health policy at The Beacon. Raymond resides in Fargo with his wife, Amy, daughter Tinsley, son Grant, and two ill-behaved cat.'},\n",
       " 'Dragan Miljkovic': {'Website': 'https://www.ndsu.edu/agecon/faculty/miljkovic/#c625001',\n",
       "  'Areas of Specialization': 'Dragan Miljkovic is professor of agricultural economics in the Department of Agribusiness & Applied Economics at North Dakota State University. Dr. Miljkovic holds B.S. and M.S. degrees in Economics from the University of Belgrade, and Ph.D. in Agricultural Economics from the University of Illinois at Urbana-Champaign. Research areas of interest include agricultural price analysis, international economics, and agricultural and food policy including human nutrition, obesity, and food safety. Dr. Miljkovic authored over sixty peer reviewed journal articles and book chapters, and edited three books. He has more than 60 selected and invited presentations at various domestic and international conferences and universities in North America, Europe, New Zealand, and Australia. Dr. Miljkovic teaches undergraduate class in agricultural prices and graduate advanced econometrics class. Dr. Miljkovic is the Founding Editor and Editor-In-Chief of the Journal of International Agricultural Trade and Development (JIATD), and has also served as the Associate Editor of the Journal of Agricultural and Applied Economics (JAAE). He is an active member of numerous professional organizations and associations including the International Agricultural Trade Research Consortium (IATRC), the AAEA, the SAEA, WAEA, NAREA, AARES, and regional projects NCCC-134, WERA-72, and S-1016.',\n",
       "  'Bio': 'agricultural price analysis, international economics, and agricultural and food policy including human nutrition, obesity, and food safety'},\n",
       " 'Frayne Olson': {'Website': 'https://www.ndsu.edu/agecon/faculty/olson/#c625016',\n",
       "  'Areas of Specialization': 'Crop Economist/Marketing',\n",
       "  'Bio': 'Dr. Frayne Olson is the Crop Economist/Marketing Specialist with the North Dakota State University Extension and Director of the Quentin Burdick Center for Cooperatives.  Dr. Olson conducts educational programs and research in evaluating crop marketing strategies, crop outlook and price analysis, and the economics of crop contracting.  As Director of the Center for Cooperatives, he teaches a senior level course on cooperative business management and coordinates the Center’s research and outreach activities. Dr. Olson received his PhD from the University of Missouri in Agricultural Economics, and his M.S. and B.S. in Agricultural Economics from North Dakota State University.'},\n",
       " 'Tim Petry': {'Website': 'https://www.ndsu.edu/agecon/faculty/petry/#c625018',\n",
       "  'Areas of Specialization': 'Livestock Marketing Economist',\n",
       "  'Bio': 'Tim Petry was raised on a livestock ranch in Northwestern North Dakota. He graduated from North Dakota State University with a major in Agricultural Economics in 1969 and served two years in the US Army. Petry returned to NDSU and completed a Master’s Degree in Agricultural Economics with an agricultural marketing emphasis in1973. He was a member of the teaching/research staff in the Department of Agricultural Economics for 30 years. During his teaching tenure, he taught many marketing courses including several livestock marketing classes, and a very popular introduction to agricultural marketing class. In 2002, Petry retired from teaching and joined the NDSU Extension Service as a Livestock Marketing Economist. He travels extensively in North Dakota and the surrounding area conducting meetings on livestock marketing educational topics. Petry writes a popular monthly “Market Advisor” column on current livestock marketing issues. Copies of his presentations, columns, and other current information affecting the livestock industry are available on his web site: www.ag.ndsu.edu/livestockeconomics. Tim Petry and his wife Shirley have three grown daughters.'},\n",
       " 'Xudong Rao': {'Website': 'https://www.ndsu.edu/agecon/faculty/rao/#c629066',\n",
       "  'Areas of Specialization': 'Farm and Agribusiness Management, Risk Analysis, Efficiency and Productivity, Technology Adoption, Food and Agricultural Policy, International Agricultural Development',\n",
       "  'Bio': 'Assistant Professor, Department of Agribusiness and Applied Economics, North Dakota State University, 2019  and also served as an a ssistant Professor, Business Economics Group, Wageningen University, The Netherlands, 2015-2019 (Permanent contract granted in 2018)'},\n",
       " 'Veeshan Rayamajhee': {'Website': 'https://www.ndsu.edu/centers/pcpe/about/directory/veeshan_rayamajhee/',\n",
       "  'Areas of Specialization': 'Public Choice and New Institutional Economics',\n",
       "  'Bio': 'Veeshan Rayamajhee is a scholar at the Challey Institute for Global Innovation and Growth with the Center for the Study of Public Choice and Private Enterprise and an assistant professor of economics in the Department of Agribusiness and Applied Economics at North Dakota State University. His research combines insights from Public Choice and New Institutional Economics to understand individual and collective responses to covariate shocks. He uses a range of empirical tools to study issues related to disasters, climate adaptation, food and energy security, and environmental externalities. His research has appeared in peer-reviewed journals such as Journal of Institutional Economics, Disasters, Economics of Disasters and Climate Change, Journal of International Development, Food Security, and Renewable Energy. For updates on his research, please visit: veeshan.rayamajhee.com/research. Veeshan teaches courses in macroeconomics and new institutional economics.'},\n",
       " 'David Ripplinger': {'Website': 'https://www.ndsu.edu/agecon/faculty/ripplinger/#c629078',\n",
       "  'Areas of Specialization': 'Transportation and Logistics',\n",
       "  'Bio': 'David Ripplinger is an Associate Professor in the Department of Agribusiness and Applied Economics at North Dakota State University and bioproducts/bioenergy economics specialist with NDSU Extension. In these roles, David conducts research and provides support to farmers and the bioenergy industry. '},\n",
       " 'David Roberts': {'Website': 'https://www.ndsu.edu/agecon/faculty/roberts/#c629137',\n",
       "  'Areas of Specialization': 'impacts of agricultural production methods on the environment and natural resources',\n",
       "  'Bio': 'David Roberts is an Assistant Professor of Agribusiness and Applied Economics at North Dakota State University. His research focuses on the impacts of agricultural production methods on the environment and natural resources. David is particularly interested in the economics of precision agriculture technologies and the response of cropping patterns and land use change to emerging biofuels policy at the Federal level. His doctoral dissertation research investigated the relative profitability of several different mid-season optimal nitrogen rate prediction systems for winter wheat in Oklahoma, and investigated how incorporation of uncertainty in estimated and predicted production functions can increase the profitability of the prediction systems. David’s MS thesis investigated the suitability of water quality trading as a policy instrument for dealing with nutrient runoff from agricultural operations in Tennessee. Results showed conditions in polluted watersheds in Tennessee likely will not support robust trading in water quality allowances or offsets.'},\n",
       " 'Anupa Sharma': {'Website': 'https://www.ndsu.edu/agecon/faculty/sharma/#c629150',\n",
       "  'Areas of Specialization': 'International Trade Agreements, Trade Patterns, Distance and Missing Globalization, International Trade and Development',\n",
       "  'Bio': 'Anupa Sharma is an Assistant Professor in the Department of Agribusiness and Applied Economics at North Dakota State University. She also serves as the Assistant Director for the Center for Agricultural Policy and Trade Studies (CAPTS). She develops quantitative methods to address issues pertinent to International Trade.'},\n",
       " 'Cheryl Wachenheim': {'Website': 'https://www.ndsu.edu/agecon/faculty/wachenheim/#c629162',\n",
       "  'Areas of Specialization': 'agricultural sales, agricultural finance, agricultural marketing, and strategic marketing and management',\n",
       "  'Bio': 'Cheryl Wachenheim is a Professor in the Department of Agribusiness and Applied Economics at North Dakota State University. She holds an undergraduate degree in animal sciences from the University of Minnesota, and a Master’s and doctorate in Agricultural Economics and an MBA from Michigan State University. She began her academic career at Illinois State University in Central Illinois and has been on the faculty at NDSU since 1998.  She regularly teaches classes in economics, agricultural sales, agricultural finance, agricultural marketing, and strategic marketing and management.  Research interests focus on eliciting perceptions and valuations from consumers, firms, students and other stakeholders and decision makers.  Analysis then allows for identification of high-value marketing and management strategies.  Cheryl has been a member of the MN Army National Guard since 1998. She is currently the Commander of the 204th Area Medical Support Company in Cottage Grove, Minnesota'},\n",
       " 'William Wilson': {'Website': 'https://www.ndsu.edu/agecon/faculty/wilson/#c629178',\n",
       "  'Areas of Specialization': 'agtechnology development and commercialization, procurement, transportation and logistics, international marketing and competition',\n",
       "  'Bio': 'Dr. William W. Wilson received his PhD in Agricultural Economics from the University of Manitoba in 1980. Since then he has been a Professor at North Dakota State University in Agribusiness and Applied Economics with periodic sabbaticals at Stanford University. Recently, he was named as a University Distinguished Professor at NDSU which an honorary position is, and a great achievement.  And, in 2016 he was named the CHS Chair in Risk Management and Trading at NDSU which is an endowed position. In 2017 he was awarded the AAEA 2016 Distinguished Teaching Award (Chicago July 2017). His focus is risk and strategy as applied to agriculture and agribusiness with a particular focus on agtechnology development and commercialization, procurement, transportation and logistics, international marketing and competition. He teaches classes in Commodity Trading, Risk and AgriBusiness Strategy and has taught his Risk Class at Purdue University; and is a visiting scholar at Melbourne University where he visits 2 times/year and advises PhD students in risk and agbiotechnology. Finally, he has now created the NDSU Commodity Trading Room which is a state of art facility for teaching and research in commodity marketing, logistics and trading. He routinely has projects and/or overseas clients and travels internationally 1 week per month.  He led a project for the United States on privatization of the grain marketing system in Russia in the early 1990’s. He currently has projects and/or clients in US, Russia, Ukraine, Mexico, Argentina and Australia. He regularly advises a number of large Agribusiness firms, several major railroads, and several major food and beverage companies and/or governments in other countries. He served as a Board member of the Minneapolis Grain Exchange for 12 years, on the FGIS Advisory Board, and currently serves as a Board member of several regional firms in agtechnology and venture capital (AMITY, BUSHEL), in addition to NCH Capital (New York City which is one of the largest investors in world agriculture). He regularly consults with major agribusiness firms on topics related to above and has worked extensively in the following industries: agtechnology,  logistics, procurement strategy, railroads, barges, ocean shipping, elevators (shuttle development), and processed products (malting and beer, durum and pasta, wheat and bread). He was recognized as one of the top 10 Agricultural Economists in 1995 and more recently as one of the top 1% of agricultural economists by RePEc (Research Papers in Economics). Finally, he has students who are in senior positions in a number of the large agribusinesses including commodity companies, railroads and food and beverage companies.'}}"
      ]
     },
     "execution_count": 15,
     "metadata": {},
     "output_type": "execute_result"
    }
   ],
   "source": [
    "faculty_dict =  {\"William Nganje\":{\"Website\":\"https://www.ndsu.edu/agecon/faculty/william_nganje/#c622350\", \n",
    "                                     \"Areas of Specialization\":\"Risk management; financial analysis; economics of obesity, food safety and food terrorism; experimental economics; and consumer choice theory\",\n",
    "                                     \"Bio\":\"NA\"},\n",
    "                 \"David Bullock\": {\"Website\":\"https://www.ndsu.edu/agecon/faculty/bullock/#c622728\",\n",
    "                                    \"Areas of Specialization\": \"futures and options markets, over-the-counter derivatives, trading, risk management, agrifinance, Monte Carlo simulation, and Big Data\",\n",
    "                                    \"Bio\":\"Dr. David W. Bullock is a Research Associate Professor affiliated with the Center for Trading and Risk at NDSU.  His research interests include futures and options markets, over-the-counter derivatives, trading, risk management, agrifinance, Monte Carlo simulation, and Big Data applications in agriculture.  His academic research in option portfolio theory has been published in both the Journal of Economics and Business and the International Review of Economics and Finance.  Additionally, he was the primary contributor behind the AgriBank Insights publication series which won a National AgriMarketing Association (NAMA) award for the best company publication in 2016. Before coming to NDSU in January 2018, Dr. Bullock held numerous positions for over 25 years in the government and private sectors including the Senior Economist at AgriBank FCB – the regional Farm Credit System funding bank for the Upper Midwest region, Director of Research and Senior Foods Economist at Fortune 500 commodity risk management firm INTL FCStone Inc., the Senior Dairy Analyst at Informa Economics, a Risk Management Specialist with the Minnesota Department of Agriculture, and the Senior Economist at the Minneapolis Grain Exchange. David began his academic career as an Assistant Professor and Extension Marketing Economist at Montana State University after graduating from Iowa State University with a Ph.D. in agricultural economics with fields in agricultural price analysis and econometrics in 1989.  Prior to entering ISU, he received bachelor’s (1982) and master’s (1984) degrees in agricultural economics from Northwest Missouri State University. Dr. Bullock is originally from the small northwestern Missouri farming community of Lathrop which is located 40 miles north of the Kansas City metropolitan area.  While in high school, he served as a regional state Vice-President in the Future Farmers of America (FFA) during his senior year.\"},\n",
    "                 \"James Caton\": {\"Website\":\"https://www.ndsu.edu/centers/pcpe/about/directory/james_caton/\",\n",
    "                                 \"Areas of Specialization\": \"Entrepreneurship, Institutions, Macroeconomics, Computation\",\n",
    "                                 \"Bio\":\"James Caton is a faculty fellow at the NDSU Center for the Study of Public Choice and Private Enterprise (PCPE) and an assistant professor in the NDSU Department of Agribusiness and Applied Economics. He teaches undergraduate courses in the areas of macroeconomics, international trade, and computation. He specializes in research related to entrepreneurship, agent-based computational economics, market process theory, and monetary economics. His research has been published in the Southern Economic Journal, Erasmus Journal for Philosophy and Economics, Journal of Entrepreneurship and Public Policy and other academic publications. He co-edited Macroeconomics, a two volume set of essays and primary sources that represent the core of macroeconomic thought. He is also a regular contributor to the American Institute for Economic Research's Sound Money Project, which conducts research and promotes awareness about monetary stability and financial privacy. He resides in Fargo with his wife, Ingrid, and their children.\"},\n",
    "                 \"David Englund\": {\"Website\":\"https://www.ndsu.edu/agecon/faculty/englund/#c622903\",\n",
    "                                 \"Areas of Specialization\": \"Teaches Economic Principles, Led NDSU NAMA to National Champions\",\n",
    "                                 \"Bio\":\"David Englund is a lecturer in the department.  He came to the department with 16 years of teaching experience, having taught Principles of Microeconomics, Principles of Macroeconomics, Money and Banking, Consumer Behavior, Selected Topics in Business, and several other classes.  He also had 10 years’ experience advising student NAMA chapters, having been awarded the Outstanding Advisor of the Year for a Developing Chapter in 2002, and the Outstanding Advisor of the Year award in 2009.\\nDavid primarily teaches Survey of Economics, Principles of Microeconomics, Skills for Academic Success, Agricultural Marketing, and NAMA (co-teaches).  He joined the NAMA team in the 2014-2015 school year as a co-advisor and helped coach the student team to a 3rd place finish in the national student marketing plan competition at the national conference.\\nSome of David’s outside interests are jogging, photography, and writing fiction novels.  His latest release, Camouflaged Encounters has received positive reviews.\"},\n",
    "                 \"Erik Hanson\": {\"Website\":\"https://www.ndsu.edu/agecon/faculty/hanson/#c622905\",\n",
    "                                 \"Areas of Specialization\": \"Ag Management, Ag Finance\",\n",
    "                                 \"Bio\":\"Erik Hanson is an Assistant Professor in the Department of Agricultural and Applied Economics. He teaches courses on agribusiness management and agricultural finance. Erik completed his Ph.D. at the University of Minnesota in 2016. Prior to that, Erik completed a master’s degree at the University of Illinois (2013) and a bachelor’s degree at Minnesota State University Moorhead (2011).\"},\n",
    "                 \"Ronald Haugen\": {\"Website\":\"https://www.ndsu.edu/agecon/about_us/faculty/ron_haugen/#c654700\",\n",
    "                                 \"Areas of Specialization\": \"Extension Farm Management Specialist\",\n",
    "                                 \"Bio\":\"Ron Haugen is an Extension Farm Management Specialist. He has been in the department since 1991. Farm management topics include: crop budgets, crop insurance, farm programs, custom farm rates, land rents, machinery economics, commodity price projections and agricultural income taxes. He computes the North Dakota Land Valuation Model.\"},\n",
    "                 \"Robert Hearne\": {\"Website\":\"https://www.ndsu.edu/agecon/faculty/hearne/#c622909\",\n",
    "                                 \"Areas of Specialization\": \"water resources management institutions, water markets, protected area management, and the economic valuation of environmental goods and services\",\n",
    "                                 \"Bio\":\"Dr. Bob Hearne has been in the Department of Agribusiness and Applied Economics since 2002.   His research focuses on water resources management institutions, water markets, protected area management, and the economic valuation of environmental goods and services.  He has professional experience in Europe, Asia, Latin America, and Asia. \"},\n",
    "                 \"Jeremy Jackson\": {\"Website\":\"https://www.ndsu.edu/centers/pcpe/about/directory/jeremy_jackson/\",\n",
    "                                 \"Areas of Specialization\": \"public choice and the political economy; the social consequences of economic freedom; happiness and well-being; and philanthropy and nonprofits\",\n",
    "                                 \"Bio\":\"Jeremy Jackson is director of the Center for the Study of Public Choice and Private Enterprise, scholar at the Challey Institute for Global Innovation and Growth, and professor of economics in the Department of Agribusiness and Applied Economics at North Dakota State University.. He teaches undergraduate and graduate courses in the areas of microeconomics, public economics, and game theory and strategy. His research covers diverse topics, including public choice and the political economy; the social consequences of economic freedom; happiness and well-being; and philanthropy and nonprofits. His research has been published in Applied Economics, The Independent Review, Public Choice, Contemporary Economic Policy, Journal of Happiness Studies, and other refereed and non-refereed sources\"},\n",
    "                 \"Prithviraj Lakkakula\": {\"Website\":\"https://www.ndsu.edu/agecon/faculty/prithviraj_lakkakula/#c623441\",\n",
    "                                 \"Areas of Specialization\": \"Agricultural Price Analysis\",\n",
    "                                 \"Bio\":\"Prithviraj has a Ph.D. Food and Resource Economics, University of Florida, 2014, an M.S. Agricultural Economics, University of Arkansas, 2010 and a B.Sc. Agriculture, Acharya N.G Ranga Agricultural University, Hyderabad, 2007. He teaches ECON 341: Intermediate Microeconomics and AGEC 344: Agricultural Price Analysis\"},\n",
    "                 \"Siew Lim\": {\"Website\":\"https://www.ndsu.edu/agecon/faculty/lim/#c624837\",\n",
    "                                 \"Areas of Specialization\": \"applied microeconomics, production economics, industrial organization, transportation and regional development\",\n",
    "                                 \"Bio\":\"Siew Hoon Lim is an associate professor of economics. Her current research is in applied microeconomics, production economics, industrial organization, transportation and regional development. Her recent research works include transportation and  regional development\"},\n",
    "                 \"Raymond March\": {\"Website\":\"https://www.ndsu.edu/centers/pcpe/about/directory/raymond_march/\",\n",
    "                                 \"Areas of Specialization\": \"public and private provision and governance of health care\",\n",
    "                                 \"Bio\":\"Raymond March is a scholar at the Challey Institute for Global Innovation and Growth with the Center for the Study of Public Choice and Private Enterprise and an assistant professor of economics in the Department of Agribusiness and Applied Economics at North Dakota State University. He teaches courses in microeconomics, the history of economic thought, and health economics. His research examines the public and private provision and governance of health care in the United States, particularly in pharmaceutical markets. His research has appeared in Southern Economic Journal, Public Choice, Research Policy, Journal of Institutional Economics, and other academic publications. His popular writings are published in the Washington Examiner, The Hill, Real Clear Health, Health Care News, Sun Sentinel, Foundation for Economic Education, and elsewhere. Raymond is also a research fellow at the Independent Institute and the director of FDAReview.org, an educational research and communications project on the U.S. Food and Drug Administration (FDA). He regularly blogs on health policy at The Beacon. Raymond resides in Fargo with his wife, Amy, daughter Tinsley, son Grant, and two ill-behaved cat.\"},\n",
    "                 \"Dragan Miljkovic\": {\"Website\":\"https://www.ndsu.edu/agecon/faculty/miljkovic/#c625001\",\n",
    "                                 \"Areas of Specialization\": \"Dragan Miljkovic is professor of agricultural economics in the Department of Agribusiness & Applied Economics at North Dakota State University. Dr. Miljkovic holds B.S. and M.S. degrees in Economics from the University of Belgrade, and Ph.D. in Agricultural Economics from the University of Illinois at Urbana-Champaign. Research areas of interest include agricultural price analysis, international economics, and agricultural and food policy including human nutrition, obesity, and food safety. Dr. Miljkovic authored over sixty peer reviewed journal articles and book chapters, and edited three books. He has more than 60 selected and invited presentations at various domestic and international conferences and universities in North America, Europe, New Zealand, and Australia. Dr. Miljkovic teaches undergraduate class in agricultural prices and graduate advanced econometrics class. Dr. Miljkovic is the Founding Editor and Editor-In-Chief of the Journal of International Agricultural Trade and Development (JIATD), and has also served as the Associate Editor of the Journal of Agricultural and Applied Economics (JAAE). He is an active member of numerous professional organizations and associations including the International Agricultural Trade Research Consortium (IATRC), the AAEA, the SAEA, WAEA, NAREA, AARES, and regional projects NCCC-134, WERA-72, and S-1016.\",\n",
    "                                 \"Bio\":\"agricultural price analysis, international economics, and agricultural and food policy including human nutrition, obesity, and food safety\"},\n",
    "                 \"Frayne Olson\": {\"Website\":\"https://www.ndsu.edu/agecon/faculty/olson/#c625016\",\n",
    "                                 \"Areas of Specialization\": \"Crop Economist/Marketing\",\n",
    "                                 \"Bio\":\"Dr. Frayne Olson is the Crop Economist/Marketing Specialist with the North Dakota State University Extension and Director of the Quentin Burdick Center for Cooperatives.  Dr. Olson conducts educational programs and research in evaluating crop marketing strategies, crop outlook and price analysis, and the economics of crop contracting.  As Director of the Center for Cooperatives, he teaches a senior level course on cooperative business management and coordinates the Center’s research and outreach activities. Dr. Olson received his PhD from the University of Missouri in Agricultural Economics, and his M.S. and B.S. in Agricultural Economics from North Dakota State University.\"},\n",
    "                 \"Tim Petry\": {\"Website\":\"https://www.ndsu.edu/agecon/faculty/petry/#c625018\",\n",
    "                                 \"Areas of Specialization\": \"Livestock Marketing Economist\",\n",
    "                                 \"Bio\":\"Tim Petry was raised on a livestock ranch in Northwestern North Dakota. He graduated from North Dakota State University with a major in Agricultural Economics in 1969 and served two years in the US Army. Petry returned to NDSU and completed a Master’s Degree in Agricultural Economics with an agricultural marketing emphasis in1973. He was a member of the teaching/research staff in the Department of Agricultural Economics for 30 years. During his teaching tenure, he taught many marketing courses including several livestock marketing classes, and a very popular introduction to agricultural marketing class. In 2002, Petry retired from teaching and joined the NDSU Extension Service as a Livestock Marketing Economist. He travels extensively in North Dakota and the surrounding area conducting meetings on livestock marketing educational topics. Petry writes a popular monthly “Market Advisor” column on current livestock marketing issues. Copies of his presentations, columns, and other current information affecting the livestock industry are available on his web site: www.ag.ndsu.edu/livestockeconomics. Tim Petry and his wife Shirley have three grown daughters.\"},\n",
    "                 \"Xudong Rao\": {\"Website\":\"https://www.ndsu.edu/agecon/faculty/rao/#c629066\",\n",
    "                                 \"Areas of Specialization\": \"Farm and Agribusiness Management, Risk Analysis, Efficiency and Productivity, Technology Adoption, Food and Agricultural Policy, International Agricultural Development\",\n",
    "                                 \"Bio\":\"Assistant Professor, Department of Agribusiness and Applied Economics, North Dakota State University, 2019  and also served as an a ssistant Professor, Business Economics Group, Wageningen University, The Netherlands, 2015-2019 (Permanent contract granted in 2018)\"},\n",
    "                 \"Veeshan Rayamajhee\": {\"Website\":\"https://www.ndsu.edu/centers/pcpe/about/directory/veeshan_rayamajhee/\",\n",
    "                                 \"Areas of Specialization\": \"Public Choice and New Institutional Economics\",\n",
    "                                 \"Bio\":\"Veeshan Rayamajhee is a scholar at the Challey Institute for Global Innovation and Growth with the Center for the Study of Public Choice and Private Enterprise and an assistant professor of economics in the Department of Agribusiness and Applied Economics at North Dakota State University. His research combines insights from Public Choice and New Institutional Economics to understand individual and collective responses to covariate shocks. He uses a range of empirical tools to study issues related to disasters, climate adaptation, food and energy security, and environmental externalities. His research has appeared in peer-reviewed journals such as Journal of Institutional Economics, Disasters, Economics of Disasters and Climate Change, Journal of International Development, Food Security, and Renewable Energy. For updates on his research, please visit: veeshan.rayamajhee.com/research. Veeshan teaches courses in macroeconomics and new institutional economics.\"},\n",
    "                 \"David Ripplinger\": {\"Website\":\"https://www.ndsu.edu/agecon/faculty/ripplinger/#c629078\",\n",
    "                                 \"Areas of Specialization\": \"Transportation and Logistics\",\n",
    "                                 \"Bio\":\"David Ripplinger is an Associate Professor in the Department of Agribusiness and Applied Economics at North Dakota State University and bioproducts/bioenergy economics specialist with NDSU Extension. In these roles, David conducts research and provides support to farmers and the bioenergy industry. \"},\n",
    "                 \"David Roberts\": {\"Website\":\"https://www.ndsu.edu/agecon/faculty/roberts/#c629137\",\n",
    "                                 \"Areas of Specialization\": \"impacts of agricultural production methods on the environment and natural resources\",\n",
    "                                 \"Bio\":\"David Roberts is an Assistant Professor of Agribusiness and Applied Economics at North Dakota State University. His research focuses on the impacts of agricultural production methods on the environment and natural resources. David is particularly interested in the economics of precision agriculture technologies and the response of cropping patterns and land use change to emerging biofuels policy at the Federal level. His doctoral dissertation research investigated the relative profitability of several different mid-season optimal nitrogen rate prediction systems for winter wheat in Oklahoma, and investigated how incorporation of uncertainty in estimated and predicted production functions can increase the profitability of the prediction systems. David’s MS thesis investigated the suitability of water quality trading as a policy instrument for dealing with nutrient runoff from agricultural operations in Tennessee. Results showed conditions in polluted watersheds in Tennessee likely will not support robust trading in water quality allowances or offsets.\"},\n",
    "                 \"Anupa Sharma\": {\"Website\":\"https://www.ndsu.edu/agecon/faculty/sharma/#c629150\",\n",
    "                                 \"Areas of Specialization\": \"International Trade Agreements, Trade Patterns, Distance and Missing Globalization, International Trade and Development\",\n",
    "                                 \"Bio\":\"Anupa Sharma is an Assistant Professor in the Department of Agribusiness and Applied Economics at North Dakota State University. She also serves as the Assistant Director for the Center for Agricultural Policy and Trade Studies (CAPTS). She develops quantitative methods to address issues pertinent to International Trade.\"},\n",
    "                 \"Cheryl Wachenheim\": {\"Website\":\"https://www.ndsu.edu/agecon/faculty/wachenheim/#c629162\",\n",
    "                                 \"Areas of Specialization\": \"agricultural sales, agricultural finance, agricultural marketing, and strategic marketing and management\",\n",
    "                                 \"Bio\":\"Cheryl Wachenheim is a Professor in the Department of Agribusiness and Applied Economics at North Dakota State University. She holds an undergraduate degree in animal sciences from the University of Minnesota, and a Master’s and doctorate in Agricultural Economics and an MBA from Michigan State University. She began her academic career at Illinois State University in Central Illinois and has been on the faculty at NDSU since 1998.  She regularly teaches classes in economics, agricultural sales, agricultural finance, agricultural marketing, and strategic marketing and management.  Research interests focus on eliciting perceptions and valuations from consumers, firms, students and other stakeholders and decision makers.  Analysis then allows for identification of high-value marketing and management strategies.  Cheryl has been a member of the MN Army National Guard since 1998. She is currently the Commander of the 204th Area Medical Support Company in Cottage Grove, Minnesota\"},\n",
    "                 \"William Wilson\": {\"Website\":\"https://www.ndsu.edu/agecon/faculty/wilson/#c629178\",\n",
    "                                 \"Areas of Specialization\": \"agtechnology development and commercialization, procurement, transportation and logistics, international marketing and competition\",\n",
    "                                 \"Bio\":\"Dr. William W. Wilson received his PhD in Agricultural Economics from the University of Manitoba in 1980. Since then he has been a Professor at North Dakota State University in Agribusiness and Applied Economics with periodic sabbaticals at Stanford University. Recently, he was named as a University Distinguished Professor at NDSU which an honorary position is, and a great achievement.  And, in 2016 he was named the CHS Chair in Risk Management and Trading at NDSU which is an endowed position. In 2017 he was awarded the AAEA 2016 Distinguished Teaching Award (Chicago July 2017). His focus is risk and strategy as applied to agriculture and agribusiness with a particular focus on agtechnology development and commercialization, procurement, transportation and logistics, international marketing and competition. He teaches classes in Commodity Trading, Risk and AgriBusiness Strategy and has taught his Risk Class at Purdue University; and is a visiting scholar at Melbourne University where he visits 2 times/year and advises PhD students in risk and agbiotechnology. Finally, he has now created the NDSU Commodity Trading Room which is a state of art facility for teaching and research in commodity marketing, logistics and trading. He routinely has projects and/or overseas clients and travels internationally 1 week per month.  He led a project for the United States on privatization of the grain marketing system in Russia in the early 1990’s. He currently has projects and/or clients in US, Russia, Ukraine, Mexico, Argentina and Australia. He regularly advises a number of large Agribusiness firms, several major railroads, and several major food and beverage companies and/or governments in other countries. He served as a Board member of the Minneapolis Grain Exchange for 12 years, on the FGIS Advisory Board, and currently serves as a Board member of several regional firms in agtechnology and venture capital (AMITY, BUSHEL), in addition to NCH Capital (New York City which is one of the largest investors in world agriculture). He regularly consults with major agribusiness firms on topics related to above and has worked extensively in the following industries: agtechnology,  logistics, procurement strategy, railroads, barges, ocean shipping, elevators (shuttle development), and processed products (malting and beer, durum and pasta, wheat and bread). He was recognized as one of the top 10 Agricultural Economists in 1995 and more recently as one of the top 1% of agricultural economists by RePEc (Research Papers in Economics). Finally, he has students who are in senior positions in a number of the large agribusinesses including commodity companies, railroads and food and beverage companies.\"},\n",
    "                }\n",
    "faculty_dict"
   ]
  },
  {
   "cell_type": "code",
   "execution_count": 16,
   "id": "8b4f221f",
   "metadata": {},
   "outputs": [
    {
     "data": {
      "text/html": [
       "<div>\n",
       "<style scoped>\n",
       "    .dataframe tbody tr th:only-of-type {\n",
       "        vertical-align: middle;\n",
       "    }\n",
       "\n",
       "    .dataframe tbody tr th {\n",
       "        vertical-align: top;\n",
       "    }\n",
       "\n",
       "    .dataframe thead th {\n",
       "        text-align: right;\n",
       "    }\n",
       "</style>\n",
       "<table border=\"1\" class=\"dataframe\">\n",
       "  <thead>\n",
       "    <tr style=\"text-align: right;\">\n",
       "      <th></th>\n",
       "      <th>William Nganje</th>\n",
       "      <th>David Bullock</th>\n",
       "      <th>James Caton</th>\n",
       "      <th>David Englund</th>\n",
       "      <th>Erik Hanson</th>\n",
       "      <th>Ronald Haugen</th>\n",
       "      <th>Robert Hearne</th>\n",
       "      <th>Jeremy Jackson</th>\n",
       "      <th>Prithviraj Lakkakula</th>\n",
       "      <th>Siew Lim</th>\n",
       "      <th>...</th>\n",
       "      <th>Dragan Miljkovic</th>\n",
       "      <th>Frayne Olson</th>\n",
       "      <th>Tim Petry</th>\n",
       "      <th>Xudong Rao</th>\n",
       "      <th>Veeshan Rayamajhee</th>\n",
       "      <th>David Ripplinger</th>\n",
       "      <th>David Roberts</th>\n",
       "      <th>Anupa Sharma</th>\n",
       "      <th>Cheryl Wachenheim</th>\n",
       "      <th>William Wilson</th>\n",
       "    </tr>\n",
       "  </thead>\n",
       "  <tbody>\n",
       "    <tr>\n",
       "      <th>Website</th>\n",
       "      <td>https://www.ndsu.edu/agecon/faculty/william_ng...</td>\n",
       "      <td>https://www.ndsu.edu/agecon/faculty/bullock/#c...</td>\n",
       "      <td>https://www.ndsu.edu/centers/pcpe/about/direct...</td>\n",
       "      <td>https://www.ndsu.edu/agecon/faculty/englund/#c...</td>\n",
       "      <td>https://www.ndsu.edu/agecon/faculty/hanson/#c6...</td>\n",
       "      <td>https://www.ndsu.edu/agecon/about_us/faculty/r...</td>\n",
       "      <td>https://www.ndsu.edu/agecon/faculty/hearne/#c6...</td>\n",
       "      <td>https://www.ndsu.edu/centers/pcpe/about/direct...</td>\n",
       "      <td>https://www.ndsu.edu/agecon/faculty/prithviraj...</td>\n",
       "      <td>https://www.ndsu.edu/agecon/faculty/lim/#c624837</td>\n",
       "      <td>...</td>\n",
       "      <td>https://www.ndsu.edu/agecon/faculty/miljkovic/...</td>\n",
       "      <td>https://www.ndsu.edu/agecon/faculty/olson/#c62...</td>\n",
       "      <td>https://www.ndsu.edu/agecon/faculty/petry/#c62...</td>\n",
       "      <td>https://www.ndsu.edu/agecon/faculty/rao/#c629066</td>\n",
       "      <td>https://www.ndsu.edu/centers/pcpe/about/direct...</td>\n",
       "      <td>https://www.ndsu.edu/agecon/faculty/ripplinger...</td>\n",
       "      <td>https://www.ndsu.edu/agecon/faculty/roberts/#c...</td>\n",
       "      <td>https://www.ndsu.edu/agecon/faculty/sharma/#c6...</td>\n",
       "      <td>https://www.ndsu.edu/agecon/faculty/wachenheim...</td>\n",
       "      <td>https://www.ndsu.edu/agecon/faculty/wilson/#c6...</td>\n",
       "    </tr>\n",
       "    <tr>\n",
       "      <th>Areas of Specialization</th>\n",
       "      <td>Risk management; financial analysis; economics...</td>\n",
       "      <td>futures and options markets, over-the-counter ...</td>\n",
       "      <td>Entrepreneurship, Institutions, Macroeconomics...</td>\n",
       "      <td>Teaches Economic Principles, Led NDSU NAMA to ...</td>\n",
       "      <td>Ag Management, Ag Finance</td>\n",
       "      <td>Extension Farm Management Specialist</td>\n",
       "      <td>water resources management institutions, water...</td>\n",
       "      <td>public choice and the political economy; the s...</td>\n",
       "      <td>Agricultural Price Analysis</td>\n",
       "      <td>applied microeconomics, production economics, ...</td>\n",
       "      <td>...</td>\n",
       "      <td>Dragan Miljkovic is professor of agricultural ...</td>\n",
       "      <td>Crop Economist/Marketing</td>\n",
       "      <td>Livestock Marketing Economist</td>\n",
       "      <td>Farm and Agribusiness Management, Risk Analysi...</td>\n",
       "      <td>Public Choice and New Institutional Economics</td>\n",
       "      <td>Transportation and Logistics</td>\n",
       "      <td>impacts of agricultural production methods on ...</td>\n",
       "      <td>International Trade Agreements, Trade Patterns...</td>\n",
       "      <td>agricultural sales, agricultural finance, agri...</td>\n",
       "      <td>agtechnology development and commercialization...</td>\n",
       "    </tr>\n",
       "    <tr>\n",
       "      <th>Bio</th>\n",
       "      <td>NA</td>\n",
       "      <td>Dr. David W. Bullock is a Research Associate P...</td>\n",
       "      <td>James Caton is a faculty fellow at the NDSU Ce...</td>\n",
       "      <td>David Englund is a lecturer in the department....</td>\n",
       "      <td>Erik Hanson is an Assistant Professor in the D...</td>\n",
       "      <td>Ron Haugen is an Extension Farm Management Spe...</td>\n",
       "      <td>Dr. Bob Hearne has been in the Department of A...</td>\n",
       "      <td>Jeremy Jackson is director of the Center for t...</td>\n",
       "      <td>Prithviraj has a Ph.D. Food and Resource Econo...</td>\n",
       "      <td>Siew Hoon Lim is an associate professor of eco...</td>\n",
       "      <td>...</td>\n",
       "      <td>agricultural price analysis, international eco...</td>\n",
       "      <td>Dr. Frayne Olson is the Crop Economist/Marketi...</td>\n",
       "      <td>Tim Petry was raised on a livestock ranch in N...</td>\n",
       "      <td>Assistant Professor, Department of Agribusines...</td>\n",
       "      <td>Veeshan Rayamajhee is a scholar at the Challey...</td>\n",
       "      <td>David Ripplinger is an Associate Professor in ...</td>\n",
       "      <td>David Roberts is an Assistant Professor of Agr...</td>\n",
       "      <td>Anupa Sharma is an Assistant Professor in the ...</td>\n",
       "      <td>Cheryl Wachenheim is a Professor in the Depart...</td>\n",
       "      <td>Dr. William W. Wilson received his PhD in Agri...</td>\n",
       "    </tr>\n",
       "  </tbody>\n",
       "</table>\n",
       "<p>3 rows × 21 columns</p>\n",
       "</div>"
      ],
      "text/plain": [
       "                                                            William Nganje  \\\n",
       "Website                  https://www.ndsu.edu/agecon/faculty/william_ng...   \n",
       "Areas of Specialization  Risk management; financial analysis; economics...   \n",
       "Bio                                                                     NA   \n",
       "\n",
       "                                                             David Bullock  \\\n",
       "Website                  https://www.ndsu.edu/agecon/faculty/bullock/#c...   \n",
       "Areas of Specialization  futures and options markets, over-the-counter ...   \n",
       "Bio                      Dr. David W. Bullock is a Research Associate P...   \n",
       "\n",
       "                                                               James Caton  \\\n",
       "Website                  https://www.ndsu.edu/centers/pcpe/about/direct...   \n",
       "Areas of Specialization  Entrepreneurship, Institutions, Macroeconomics...   \n",
       "Bio                      James Caton is a faculty fellow at the NDSU Ce...   \n",
       "\n",
       "                                                             David Englund  \\\n",
       "Website                  https://www.ndsu.edu/agecon/faculty/englund/#c...   \n",
       "Areas of Specialization  Teaches Economic Principles, Led NDSU NAMA to ...   \n",
       "Bio                      David Englund is a lecturer in the department....   \n",
       "\n",
       "                                                               Erik Hanson  \\\n",
       "Website                  https://www.ndsu.edu/agecon/faculty/hanson/#c6...   \n",
       "Areas of Specialization                          Ag Management, Ag Finance   \n",
       "Bio                      Erik Hanson is an Assistant Professor in the D...   \n",
       "\n",
       "                                                             Ronald Haugen  \\\n",
       "Website                  https://www.ndsu.edu/agecon/about_us/faculty/r...   \n",
       "Areas of Specialization               Extension Farm Management Specialist   \n",
       "Bio                      Ron Haugen is an Extension Farm Management Spe...   \n",
       "\n",
       "                                                             Robert Hearne  \\\n",
       "Website                  https://www.ndsu.edu/agecon/faculty/hearne/#c6...   \n",
       "Areas of Specialization  water resources management institutions, water...   \n",
       "Bio                      Dr. Bob Hearne has been in the Department of A...   \n",
       "\n",
       "                                                            Jeremy Jackson  \\\n",
       "Website                  https://www.ndsu.edu/centers/pcpe/about/direct...   \n",
       "Areas of Specialization  public choice and the political economy; the s...   \n",
       "Bio                      Jeremy Jackson is director of the Center for t...   \n",
       "\n",
       "                                                      Prithviraj Lakkakula  \\\n",
       "Website                  https://www.ndsu.edu/agecon/faculty/prithviraj...   \n",
       "Areas of Specialization                        Agricultural Price Analysis   \n",
       "Bio                      Prithviraj has a Ph.D. Food and Resource Econo...   \n",
       "\n",
       "                                                                  Siew Lim  \\\n",
       "Website                   https://www.ndsu.edu/agecon/faculty/lim/#c624837   \n",
       "Areas of Specialization  applied microeconomics, production economics, ...   \n",
       "Bio                      Siew Hoon Lim is an associate professor of eco...   \n",
       "\n",
       "                         ...  \\\n",
       "Website                  ...   \n",
       "Areas of Specialization  ...   \n",
       "Bio                      ...   \n",
       "\n",
       "                                                          Dragan Miljkovic  \\\n",
       "Website                  https://www.ndsu.edu/agecon/faculty/miljkovic/...   \n",
       "Areas of Specialization  Dragan Miljkovic is professor of agricultural ...   \n",
       "Bio                      agricultural price analysis, international eco...   \n",
       "\n",
       "                                                              Frayne Olson  \\\n",
       "Website                  https://www.ndsu.edu/agecon/faculty/olson/#c62...   \n",
       "Areas of Specialization                           Crop Economist/Marketing   \n",
       "Bio                      Dr. Frayne Olson is the Crop Economist/Marketi...   \n",
       "\n",
       "                                                                 Tim Petry  \\\n",
       "Website                  https://www.ndsu.edu/agecon/faculty/petry/#c62...   \n",
       "Areas of Specialization                      Livestock Marketing Economist   \n",
       "Bio                      Tim Petry was raised on a livestock ranch in N...   \n",
       "\n",
       "                                                                Xudong Rao  \\\n",
       "Website                   https://www.ndsu.edu/agecon/faculty/rao/#c629066   \n",
       "Areas of Specialization  Farm and Agribusiness Management, Risk Analysi...   \n",
       "Bio                      Assistant Professor, Department of Agribusines...   \n",
       "\n",
       "                                                        Veeshan Rayamajhee  \\\n",
       "Website                  https://www.ndsu.edu/centers/pcpe/about/direct...   \n",
       "Areas of Specialization      Public Choice and New Institutional Economics   \n",
       "Bio                      Veeshan Rayamajhee is a scholar at the Challey...   \n",
       "\n",
       "                                                          David Ripplinger  \\\n",
       "Website                  https://www.ndsu.edu/agecon/faculty/ripplinger...   \n",
       "Areas of Specialization                       Transportation and Logistics   \n",
       "Bio                      David Ripplinger is an Associate Professor in ...   \n",
       "\n",
       "                                                             David Roberts  \\\n",
       "Website                  https://www.ndsu.edu/agecon/faculty/roberts/#c...   \n",
       "Areas of Specialization  impacts of agricultural production methods on ...   \n",
       "Bio                      David Roberts is an Assistant Professor of Agr...   \n",
       "\n",
       "                                                              Anupa Sharma  \\\n",
       "Website                  https://www.ndsu.edu/agecon/faculty/sharma/#c6...   \n",
       "Areas of Specialization  International Trade Agreements, Trade Patterns...   \n",
       "Bio                      Anupa Sharma is an Assistant Professor in the ...   \n",
       "\n",
       "                                                         Cheryl Wachenheim  \\\n",
       "Website                  https://www.ndsu.edu/agecon/faculty/wachenheim...   \n",
       "Areas of Specialization  agricultural sales, agricultural finance, agri...   \n",
       "Bio                      Cheryl Wachenheim is a Professor in the Depart...   \n",
       "\n",
       "                                                            William Wilson  \n",
       "Website                  https://www.ndsu.edu/agecon/faculty/wilson/#c6...  \n",
       "Areas of Specialization  agtechnology development and commercialization...  \n",
       "Bio                      Dr. William W. Wilson received his PhD in Agri...  \n",
       "\n",
       "[3 rows x 21 columns]"
      ]
     },
     "execution_count": 16,
     "metadata": {},
     "output_type": "execute_result"
    }
   ],
   "source": [
    "faculty_df = pd.DataFrame(faculty_dict)\n",
    "# to save a dictionary as a dataframe, pass the dictionary to pd.DataFrame()\n",
    "faculty_df"
   ]
  },
  {
   "cell_type": "code",
   "execution_count": 17,
   "id": "179d4341",
   "metadata": {},
   "outputs": [],
   "source": [
    "faculty_df.to_csv(\"NDSUAAEFacultyInfo.csv\")"
   ]
  },
  {
   "cell_type": "code",
   "execution_count": null,
   "id": "73814094",
   "metadata": {},
   "outputs": [],
   "source": []
  }
 ],
 "metadata": {
  "kernelspec": {
   "display_name": "Python 3",
   "language": "python",
   "name": "python3"
  },
  "language_info": {
   "codemirror_mode": {
    "name": "ipython",
    "version": 3
   },
   "file_extension": ".py",
   "mimetype": "text/x-python",
   "name": "python",
   "nbconvert_exporter": "python",
   "pygments_lexer": "ipython3",
   "version": "3.8.8"
  }
 },
 "nbformat": 4,
 "nbformat_minor": 5
}
