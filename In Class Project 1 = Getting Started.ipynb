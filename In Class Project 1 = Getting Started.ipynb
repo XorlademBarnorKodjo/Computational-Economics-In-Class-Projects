{
 "cells": [
  {
   "cell_type": "markdown",
   "id": "c585a8b5",
   "metadata": {},
   "source": [
    "This class is targeted at developing computational tools to support economic analysis. cxan be used also for \n",
    "computational finance\n",
    "data analysis data science\n",
    "functional and object oriented programming"
   ]
  },
  {
   "cell_type": "code",
   "execution_count": 1,
   "id": "9c7d26f0",
   "metadata": {},
   "outputs": [
    {
     "name": "stdout",
     "output_type": "stream",
     "text": [
      "Hello world!\n"
     ]
    }
   ],
   "source": [
    "#First program\n",
    "#helloWorld.py\n",
    "print(\"Hello world!\")"
   ]
  },
  {
   "cell_type": "code",
   "execution_count": 2,
   "id": "7575a981",
   "metadata": {},
   "outputs": [
    {
     "name": "stdout",
     "output_type": "stream",
     "text": [
      "Hello World!\n"
     ]
    }
   ],
   "source": [
    "#helloWorld.py\n",
    "print('Hello World!')"
   ]
  },
  {
   "cell_type": "code",
   "execution_count": 3,
   "id": "b9b60b84",
   "metadata": {},
   "outputs": [
    {
     "name": "stdout",
     "output_type": "stream",
     "text": [
      "Hello Kodjo!\n"
     ]
    }
   ],
   "source": [
    "#helloJim.py\n",
    "msg = \"Hello Kodjo!\"\n",
    "print(msg)"
   ]
  },
  {
   "cell_type": "code",
   "execution_count": 4,
   "id": "fec2d848",
   "metadata": {},
   "outputs": [
    {
     "name": "stdout",
     "output_type": "stream",
     "text": [
      "kodjo Barnor\n",
      "KODJO BARNOR\n",
      "Kodjo Barnor\n"
     ]
    }
   ],
   "source": [
    "#stringCaps.py\n",
    "msg = \"kodjo Barnor\"\n",
    "print(msg)\n",
    "\n",
    "# ALL CAPS\n",
    "msg_upper = msg.upper()\n",
    "print(msg_upper)\n",
    "\n",
    "# First Letter Of Each Word Capitalized\n",
    "msg_title = msg.title()\n",
    "print(msg_title)"
   ]
  },
  {
   "cell_type": "code",
   "execution_count": 6,
   "id": "955f31ec",
   "metadata": {},
   "outputs": [
    {
     "name": "stdout",
     "output_type": "stream",
     "text": [
      "Kodjo Barnor\n"
     ]
    }
   ],
   "source": [
    "#concatenateStrings.py\n",
    "# join 3 different strings and save the result as msg\n",
    "msg = \"Kodjo\" + \" \" + \"Barnor\"\n",
    "print(msg)"
   ]
  },
  {
   "cell_type": "code",
   "execution_count": 7,
   "id": "7860dc02",
   "metadata": {},
   "outputs": [
    {
     "name": "stdout",
     "output_type": "stream",
     "text": [
      "Kodjois agraduate student\n"
     ]
    }
   ],
   "source": [
    "#Concatenate 3 distinct strings\n",
    "\n",
    "line1 = \"Kodjo\"\n",
    "line2 = \"is a\"\n",
    "line3 = \"graduate student\"\n",
    "\n",
    "\n",
    "print(line1 + line2 + line3)"
   ]
  },
  {
   "cell_type": "code",
   "execution_count": 8,
   "id": "0fdb02f3",
   "metadata": {},
   "outputs": [
    {
     "name": "stdout",
     "output_type": "stream",
     "text": [
      "Kodjo is a graduate student\n"
     ]
    }
   ],
   "source": [
    "#TO ADD SPACE BETWEEN ADJACENT WORDS WE CAN\n",
    "\n",
    "line1 = \"Kodjo\"\n",
    "line2 = \"is a\"\n",
    "line3 = \"graduate student\"\n",
    "\n",
    "\n",
    "print(line1 + \" \" + line2 + \" \" + line3)"
   ]
  },
  {
   "cell_type": "code",
   "execution_count": 9,
   "id": "dbceb63d",
   "metadata": {},
   "outputs": [
    {
     "name": "stdout",
     "output_type": "stream",
     "text": [
      "Kodjo is a graduate student\n"
     ]
    }
   ],
   "source": [
    "#TO ADD SPACE BETWEEN ADJACENT WORDS WE CAN ALSO\n",
    "\n",
    "line1 = \"Kodjo\"\n",
    "line2 = \"is a\"\n",
    "line3 = \"graduate student\"\n",
    "\n",
    "\n",
    "print(line1, line2, line3)"
   ]
  },
  {
   "cell_type": "code",
   "execution_count": 10,
   "id": "619dcd05",
   "metadata": {},
   "outputs": [
    {
     "name": "stdout",
     "output_type": "stream",
     "text": [
      "Kodjois agraduate student\n"
     ]
    }
   ],
   "source": [
    "#this brings it back\n",
    "\n",
    "line1 = \"Kodjo\"\n",
    "line2 = \"is a\"\n",
    "line3 = \"graduate student\"\n",
    "\n",
    "\n",
    "print(line1, line2, line3, sep = \"\")"
   ]
  },
  {
   "cell_type": "code",
   "execution_count": 13,
   "id": "2dc0131c",
   "metadata": {},
   "outputs": [
    {
     "name": "stdout",
     "output_type": "stream",
     "text": [
      "Kodjo\n",
      "is a\n",
      "graduate student\n"
     ]
    }
   ],
   "source": [
    "#this brings it back\n",
    "\n",
    "line1 = \"Kodjo\"\n",
    "line2 = \"is a\"\n",
    "line3 = \"graduate student\"\n",
    "\n",
    "\n",
    "print(line1 + \"\\n\" + line2 + \"\\n\" + line3, sep = \"\")"
   ]
  },
  {
   "cell_type": "code",
   "execution_count": 14,
   "id": "8473a4ee",
   "metadata": {},
   "outputs": [
    {
     "name": "stdout",
     "output_type": "stream",
     "text": [
      "no spaces removed:\n",
      "     Look at all the spaces in the text!    \n",
      "Remove left spaces:\n",
      "Look at all the spaces in the text!    \n",
      "Remove right spaces:\n",
      "    Look at all the spaces in the text!\n",
      "Remove left and right spaces:\n",
      "Look at all the spaces in the text!\n"
     ]
    }
   ],
   "source": [
    "#strip.py\n",
    "spaces = \"    Look at all the spaces in the text!    \"\n",
    "print(\"no spaces removed:\\n\", spaces)\n",
    "\n",
    "remove_left_spaces = spaces.lstrip()\n",
    "remove_right_spaces = spaces.rstrip()\n",
    "remove_left_and_right_spaces = spaces.strip()\n",
    "\n",
    "print(\"Remove left spaces:\\n\" + remove_left_spaces)\n",
    "print(\"Remove right spaces:\\n\" + remove_right_spaces)\n",
    "print(\"Remove left and right spaces:\\n\" + remove_left_and_right_spaces)"
   ]
  },
  {
   "cell_type": "code",
   "execution_count": null,
   "id": "f73af698",
   "metadata": {},
   "outputs": [],
   "source": []
  }
 ],
 "metadata": {
  "kernelspec": {
   "display_name": "Python 3",
   "language": "python",
   "name": "python3"
  },
  "language_info": {
   "codemirror_mode": {
    "name": "ipython",
    "version": 3
   },
   "file_extension": ".py",
   "mimetype": "text/x-python",
   "name": "python",
   "nbconvert_exporter": "python",
   "pygments_lexer": "ipython3",
   "version": "3.8.8"
  }
 },
 "nbformat": 4,
 "nbformat_minor": 5
}
